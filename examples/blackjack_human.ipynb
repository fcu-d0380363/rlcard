{
 "cells": [
  {
   "cell_type": "code",
   "execution_count": null,
   "metadata": {},
   "outputs": [],
   "source": [
    "''' A toy example of self playing for Blackjack\n",
    "    Maybe it is used to play against multiple trained agents if someone can rebuild a game code :)\n",
    "'''\n",
    "\n",
    "import rlcard\n",
    "from rlcard.agents import RandomAgent as RandomAgent\n",
    "from rlcard.agents import BlackjackHumanAgent as HumanAgent\n",
    "from rlcard.utils.utils import print_card\n",
    "\n",
    "# Make environment and enable human mode\n",
    "# Set 'record_action' to True because we need it to print results\n",
    "# 玩家人數\n",
    "player_num = 2\n",
    "\n",
    "# config 為配置環境的 dictionary \n",
    "# 默認False。如為True，則中的字段action_record將state記錄歷史操作。這可以用於人為代理遊戲。\n",
    "env = rlcard.make('blackjack', config={'record_action': True, 'game_player_num': player_num})\n",
    "\n",
    "# env.action_num 該遊戲可操作的數量\n",
    "human_agent = HumanAgent(env.action_num)\n",
    "random_agent = RandomAgent(env.action_num)\n",
    "env.set_agents([human_agent, random_agent])\n",
    "\n",
    "print(\">> Blackjack human agent\")"
   ]
  },
  {
   "cell_type": "code",
   "execution_count": null,
   "metadata": {},
   "outputs": [],
   "source": [
    "while (True):\n",
    "    print(\">> Start a new game\")\n",
    "    # 如果 is_training 為 True，它將使用 agent 裡的 step function 來玩遊戲。\n",
    "    # 如果 is_training 為 False，則使用 eval_step。"
   ]
  },
  {
   "cell_type": "code",
   "execution_count": null,
   "metadata": {},
   "outputs": [],
   "source": [
    "trajectories, payoffs = env.run(is_training=False)"
   ]
  },
  {
   "cell_type": "markdown",
   "metadata": {},
   "source": [
    "### trajectories 為出牌紀錄\n",
    "[S, H, D, C, BJ, RJ] meaning [Spades, Hearts, Diamonds, Clubs, Black Joker, Red Joker]"
   ]
  },
  {
   "cell_type": "code",
   "execution_count": null,
   "metadata": {},
   "outputs": [],
   "source": [
    "# 註解用範例\n",
    "trajectories: {'obs': array([24, 17]), \n",
    "                           'legal_actions': [0, 1], \n",
    "                           'raw_obs': {'actions': ('hit', 'stand'), \n",
    "                                       'player0 hand': ['H5', 'SJ', 'D2', 'D7'], \n",
    "                                       'player1 hand': ['S7', 'H3', 'H2'], \n",
    "                                       'dealer hand': ['S8', 'C9'], \n",
    "                                       'state': (['H5', 'SJ', 'D2', 'D7'], ['S8', 'C9'])}, \n",
    "                           'raw_legal_actions': ['hit', 'stand'], \n",
    "                           'action_record': [[0, 'hit'], [1, 'hit'], [0, 'hit'], [1, 'stand']]}"
   ]
  },
  {
   "cell_type": "markdown",
   "metadata": {},
   "source": [
    "### payoffs 紀錄輸贏\n",
    " -1 (lose), 0 (tie), or 1 (win)"
   ]
  },
  {
   "cell_type": "code",
   "execution_count": null,
   "metadata": {},
   "outputs": [],
   "source": [
    " # If the human does not take the final action, we need to\n",
    "    # print other players action\n",
    "\n",
    "    if len(trajectories[0]) != 0:\n",
    "        final_state = []\n",
    "        action_record = []\n",
    "        state = []\n",
    "        _action_list = []\n",
    "\n",
    "        for i in range(player_num):\n",
    "            # card\n",
    "            final_state.append(trajectories[i][-1][-2])\n",
    "            state.append(final_state[i]['raw_obs'])\n",
    "\n",
    "        action_record.append(final_state[i]['action_record'])\n",
    "        for i in range(1, len(action_record) + 1):\n",
    "            _action_list.insert(0, action_record[-i])\n",
    "\n",
    "        for pair in _action_list[0]:\n",
    "            print('>> Player', pair[0], 'chooses', pair[1])\n",
    "\n",
    "    # Let's take a look at what the agent card is\n",
    "    print('===============   Dealer hand   ===============')\n",
    "    print_card(state[0]['state'][1])\n",
    "\n",
    "    for i in range(player_num):\n",
    "        print('===============   Player {} Hand   ==============='.format(i))\n",
    "        print_card(state[i]['state'][0])\n",
    "\n",
    "    print('===============     Result     ===============')\n",
    "    for i in range(player_num):\n",
    "        if payoffs[i] == 1:\n",
    "            print('Player {} win {} chip!'.format(i, payoffs[i]))\n",
    "        elif payoffs[i] == 0:\n",
    "            print('Player {} is tie'.format(i))\n",
    "        else:\n",
    "            print('Player {} lose {} chip!'.format(i, -payoffs[i]))\n",
    "        print('')\n",
    "\n",
    "    input(\"Press any key to continue...\")"
   ]
  }
 ],
 "metadata": {
  "kernelspec": {
   "display_name": "Python 3",
   "language": "python",
   "name": "python3"
  },
  "language_info": {
   "codemirror_mode": {
    "name": "ipython",
    "version": 3
   },
   "file_extension": ".py",
   "mimetype": "text/x-python",
   "name": "python",
   "nbconvert_exporter": "python",
   "pygments_lexer": "ipython3",
   "version": "3.7.9"
  }
 },
 "nbformat": 4,
 "nbformat_minor": 4
}
